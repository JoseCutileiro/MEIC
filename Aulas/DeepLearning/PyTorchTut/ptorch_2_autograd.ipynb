{
 "cells": [
  {
   "cell_type": "code",
   "execution_count": 3,
   "metadata": {},
   "outputs": [
    {
     "name": "stdout",
     "output_type": "stream",
     "text": [
      "Z: tensor(10.2158, grad_fn=<MeanBackward0>)\n",
      "Gradient: tensor([1.7188, 2.4932, 4.2511])\n"
     ]
    }
   ],
   "source": [
    "import torch \n",
    "\n",
    "x = torch.randn(3,requires_grad=True)\n",
    "\n",
    "#  Forward\n",
    "# ---------->\n",
    "y = x + 2\n",
    "\n",
    "z = y * y * 2\n",
    "\n",
    "z = z.mean()\n",
    "\n",
    "\n",
    "\n",
    "\n",
    "#  Backword: Calculate gradients\n",
    "\n",
    "# This needs to be a scalar or the backward won't work correctly\n",
    "print(\"(escalar) Z:\",z)\n",
    "z.backward()\n",
    "\n",
    "print(\"Gradient:\",x.grad)"
   ]
  },
  {
   "cell_type": "markdown",
   "metadata": {},
   "source": [
    "# Updating W and b\n",
    "\n",
    "When updating the W you odn't want to add this operations to the grad,\n",
    "so you need to deactivate this property when doing something like this"
   ]
  },
  {
   "cell_type": "code",
   "execution_count": null,
   "metadata": {},
   "outputs": [],
   "source": [
    "# To deactivate temporarly\n",
    "x.requires_grad_(False)\n",
    "\n",
    "# To create a copy without this property\n",
    "y = x.detach()"
   ]
  },
  {
   "cell_type": "code",
   "execution_count": 7,
   "metadata": {},
   "outputs": [
    {
     "name": "stdout",
     "output_type": "stream",
     "text": [
      "tensor([3., 3., 3., 3.])\n",
      "tensor([3., 3., 3., 3.])\n",
      "tensor([3., 3., 3., 3.])\n",
      "tensor([3., 3., 3., 3.])\n"
     ]
    }
   ],
   "source": [
    "# Basic example\n",
    "\n",
    "weights = torch.ones(4,requires_grad=True)\n",
    "\n",
    "for e in range(4):\n",
    "    model_output = (weights * 3).sum()\n",
    "    \n",
    "    model_output.backward()\n",
    "    \n",
    "    print(weights.grad)\n",
    "    \n",
    "    # You need to reset the grad\n",
    "    weights.grad.zero_()"
   ]
  },
  {
   "cell_type": "code",
   "execution_count": null,
   "metadata": {},
   "outputs": [],
   "source": [
    "# The same using an optimizer\n",
    "\n",
    "weights = torch.ones(4,requires_grad=True)\n",
    "\n",
    "optimizer = torch.optim.SGD(weights,lr=0.01)\n",
    "optimizer.step()\n",
    "optimizer.zero_grad()"
   ]
  }
 ],
 "metadata": {
  "kernelspec": {
   "display_name": "IST_DL21_Env",
   "language": "python",
   "name": "python3"
  },
  "language_info": {
   "codemirror_mode": {
    "name": "ipython",
    "version": 3
   },
   "file_extension": ".py",
   "mimetype": "text/x-python",
   "name": "python",
   "nbconvert_exporter": "python",
   "pygments_lexer": "ipython3",
   "version": "3.8.18"
  }
 },
 "nbformat": 4,
 "nbformat_minor": 2
}
