{
 "cells": [
  {
   "cell_type": "code",
   "execution_count": 1,
   "metadata": {},
   "outputs": [],
   "source": [
    "import torch\n",
    "\n",
    "x = torch.empty(3)\n",
    "\n",
    "r = torch.rand(2,2)\n",
    "\n",
    "o = torch.ones(3,3)\n",
    "\n",
    "z = torch.zeros(4)\n",
    "\n",
    "l = torch.tensor([2,4])"
   ]
  },
  {
   "cell_type": "markdown",
   "metadata": {},
   "source": [
    "(Multiple ways to initialize tensors) "
   ]
  },
  {
   "cell_type": "code",
   "execution_count": 2,
   "metadata": {},
   "outputs": [
    {
     "name": "stdout",
     "output_type": "stream",
     "text": [
      "X: tensor([[0.1916, 0.6381],\n",
      "        [0.8653, 0.4427]]) Y: tensor([[0.3328, 0.6333],\n",
      "        [0.3065, 0.8560]])\n",
      "Z: tensor([[0.5243, 1.2714],\n",
      "        [1.1718, 1.2987]])\n"
     ]
    }
   ],
   "source": [
    "x = torch.rand(2,2)\n",
    "y = torch.rand(2,2)\n",
    "\n",
    "print(\"X:\",x,\"Y:\",y)\n",
    "\n",
    "z = torch.add(x,y)  # <=> z = x + y\n",
    "\n",
    "print(\"Z:\",z)\n"
   ]
  },
  {
   "cell_type": "markdown",
   "metadata": {},
   "source": [
    "# Basic Operations\n",
    "\n",
    "1. ADD \n",
    "2. SUB\n",
    "3. MUL \n",
    "4. DIV"
   ]
  },
  {
   "cell_type": "code",
   "execution_count": 5,
   "metadata": {},
   "outputs": [
    {
     "name": "stdout",
     "output_type": "stream",
     "text": [
      "Original X: tensor([[0.7987, 0.6419, 0.5142],\n",
      "        [0.0479, 0.8715, 0.8050],\n",
      "        [0.3032, 0.4834, 0.1371],\n",
      "        [0.6571, 0.8489, 0.9767],\n",
      "        [0.4542, 0.3821, 0.5583]])\n",
      "Slice [:,0]: tensor([0.7987, 0.0479, 0.3032, 0.6571, 0.4542])\n",
      "Slice [1,1]: tensor(0.8715)\n",
      "Get the item: 0.87153559923172\n",
      "View: tensor([0.7987, 0.6419, 0.5142, 0.0479, 0.8715, 0.8050, 0.3032, 0.4834, 0.1371,\n",
      "        0.6571, 0.8489, 0.9767, 0.4542, 0.3821, 0.5583])\n",
      "Auto complete the other dimension: tensor([[0.7987, 0.6419, 0.5142, 0.0479, 0.8715],\n",
      "        [0.8050, 0.3032, 0.4834, 0.1371, 0.6571],\n",
      "        [0.8489, 0.9767, 0.4542, 0.3821, 0.5583]])\n"
     ]
    }
   ],
   "source": [
    "x = torch.rand(5,3)\n",
    "\n",
    "print(\"Original X:\",x)\n",
    "print(\"Slice [:,0]:\",x[:,0])\n",
    "print(\"Slice [1,1]:\",x[1,1])\n",
    "print(\"Get the item:\",x[1,1].item())\n",
    "print(\"View:\",x.view(5*3))    # (1D vector)\n",
    "print(\"Auto complete the other dimension:\",x.view(-1,5))   # Using -1\n"
   ]
  },
  {
   "cell_type": "markdown",
   "metadata": {},
   "source": [
    "# Views and slices\n",
    "\n",
    "1. Views: Change the perspective you have from that tensor \n",
    "2. Slices: Choose what part you want from the tensor"
   ]
  },
  {
   "cell_type": "code",
   "execution_count": 9,
   "metadata": {},
   "outputs": [
    {
     "name": "stdout",
     "output_type": "stream",
     "text": [
      "Torch tensor: tensor([1., 1., 1., 1., 1.])\n",
      "Numpy array: [1. 1. 1. 1. 1.]\n",
      "Shared memory, Tensor content: tensor([10.,  1.,  1.,  1.,  1.])\n"
     ]
    }
   ],
   "source": [
    "import numpy as np\n",
    "\n",
    "\n",
    "a = torch.ones(5)\n",
    "\n",
    "print(\"Torch tensor:\",a)\n",
    "\n",
    "b = a.numpy()\n",
    "\n",
    "print(\"Numpy array:\",b)\n",
    "\n",
    "b[0] = 10\n",
    "\n",
    "print(\"(WARNING Shared memory) Tensor content:\",a)\n"
   ]
  },
  {
   "cell_type": "markdown",
   "metadata": {},
   "source": [
    "# How to use the GPU with tensors? \n",
    "\n",
    "1. You need cuda instaled\n",
    "\n",
    "2. Create the tensor with the GPU\n",
    "\n",
    "```py\n",
    "if torch.cuda.is_available():\n",
    "    device = torch.device(\"cuda\")\n",
    "\n",
    "    # Create directly on the GPU\n",
    "    x = torch.ones(5,device=device)\n",
    "\n",
    "    # Or, move the tensor to the GPU\n",
    "    y = torch.ones(5) \n",
    "\n",
    "    ...\n",
    "\n",
    "    y = x.to(device)\n",
    "\n",
    "\n",
    "    # This operation will run on the GPU\n",
    "    z = x + y\n",
    "\n",
    "    # WARNING: This wont work, since numpy dont run on the GPU \n",
    "    z.numpy()\n",
    "```\n"
   ]
  }
 ],
 "metadata": {
  "kernelspec": {
   "display_name": "IST_DL21_Env",
   "language": "python",
   "name": "python3"
  },
  "language_info": {
   "codemirror_mode": {
    "name": "ipython",
    "version": 3
   },
   "file_extension": ".py",
   "mimetype": "text/x-python",
   "name": "python",
   "nbconvert_exporter": "python",
   "pygments_lexer": "ipython3",
   "version": "3.8.18"
  }
 },
 "nbformat": 4,
 "nbformat_minor": 2
}
