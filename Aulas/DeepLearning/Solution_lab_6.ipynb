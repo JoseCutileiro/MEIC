{
 "cells": [
  {
   "cell_type": "code",
   "execution_count": 2,
   "metadata": {},
   "outputs": [
    {
     "name": "stderr",
     "output_type": "stream",
     "text": [
      "c:\\Users\\35196\\miniconda3\\envs\\IST_DL21_Env\\lib\\site-packages\\torchvision\\io\\image.py:13: UserWarning: Failed to load image Python extension: '[WinError 127] Impossível localizar o procedimento especificado'If you don't plan on using image functionality from `torchvision.io`, you can ignore this warning. Otherwise, there might be something wrong with your environment. Did you have `libjpeg` or `libpng` installed before building `torchvision` from source?\n",
      "  warn(\n",
      "c:\\Users\\35196\\miniconda3\\envs\\IST_DL21_Env\\lib\\site-packages\\tqdm\\auto.py:21: TqdmWarning: IProgress not found. Please update jupyter and ipywidgets. See https://ipywidgets.readthedocs.io/en/stable/user_install.html\n",
      "  from .autonotebook import tqdm as notebook_tqdm\n"
     ]
    }
   ],
   "source": [
    "import matplotlib.pyplot as plt\n",
    "import numpy as np\n",
    "from sklearn.base import BaseEstimator\n",
    "from sklearn.datasets import load_digits\n",
    "from sklearn.linear_model import LogisticRegression\n",
    "from sklearn.preprocessing import StandardScaler\n",
    "from sklearn.utils import check_random_state\n",
    "import torch\n",
    "import torch.nn as nn\n",
    "import torch.nn.functional as F\n",
    "import torch.optim as optim\n",
    "from torchvision import datasets, transforms\n",
    "from torch.autograd import Variable\n",
    "from torch.utils.data import Dataset, DataLoader\n",
    "from torch.utils.data.sampler import SubsetRandomSampler\n",
    "import time\n",
    "import copy"
   ]
  },
  {
   "cell_type": "code",
   "execution_count": 3,
   "metadata": {},
   "outputs": [
    {
     "name": "stdout",
     "output_type": "stream",
     "text": [
      "cpu\n"
     ]
    }
   ],
   "source": [
    "device = torch.device('cuda:0' if torch.cuda.is_available() else 'cpu')\n",
    "print(device)"
   ]
  },
  {
   "cell_type": "markdown",
   "metadata": {},
   "source": [
    "If this prints 'cpu' is because you didnt activate cuda:0 (wich makes the usage of the gpu more simple for pytorch)\n",
    "Dont worry, if you are using cpu anyway, this is just to be compatible if you decide to extend this code for\n",
    "gpu aswell. You now just need to work with this device variable"
   ]
  },
  {
   "cell_type": "code",
   "execution_count": 4,
   "metadata": {},
   "outputs": [],
   "source": [
    "# Transform for MNIST\n",
    "mnist_transform = transforms.Compose(\n",
    "    [transforms.ToTensor(),\n",
    "     transforms.Normalize((0.1307,), (0.3081,))])\n",
    "\n",
    "# TRAIN AND VALIDATION DATA SET\n",
    "mnist_train_dataset = datasets.MNIST('../data', download=True, train=True, transform=mnist_transform)\n",
    "mnist_val_dataset = datasets.MNIST('../data', download=True, train=False, transform=mnist_transform)\n",
    "\n",
    "# DATA LOADERS\n",
    "mnist_train_dataloader = DataLoader(mnist_train_dataset, batch_size=64, shuffle=True)\n",
    "mnist_val_dataloader = DataLoader(mnist_val_dataset, batch_size=64, shuffle=True)"
   ]
  },
  {
   "cell_type": "markdown",
   "metadata": {},
   "source": [
    "# Question one: \n",
    "\n",
    "```c \n",
    "(1) Implement a Logistic Regression using scikit-learn and a Feedforward Neural Network\n",
    "with 3 hidden layers of dimensions 256, 128, 64, using pytorch.\n",
    "\n",
    "(2) Train the Feedforward Neural Network using as optimizer SGD with\n",
    "a learning rate of 0.01 and a momentum 0.5,\n",
    "nn.NLLLoss() as your loss function. Train the Feedforward\n",
    "Neural Network using as optimizer SGD with a learning rate of 0.01 and a momentum 0.5,\n",
    "nn.NLLLoss() as your loss function.\n",
    "\n",
    "(3) Run your implementation of the Logistic Regression and the Feedforward Neural Network\n",
    "algorithms on this dataset. Measure the training and validation accuracy\n",
    "\n",
    "(4) Plot the coefficients of the Logistic Regression for each class\n",
    "```"
   ]
  },
  {
   "cell_type": "code",
   "execution_count": 5,
   "metadata": {},
   "outputs": [],
   "source": [
    "# MNIST Dataloaders to get data into numpy for Logistic Regression\n",
    "mnist_train_dataloader_numpy = DataLoader(mnist_train_dataset, batch_size=len(mnist_train_dataset))\n",
    "mnist_val_dataloader_numpy = DataLoader(mnist_val_dataset, batch_size=len(mnist_val_dataset))\n",
    "X_y_train = next(iter(mnist_train_dataloader_numpy))\n",
    "X_y_val = next(iter(mnist_val_dataloader_numpy))\n",
    "X_train = X_y_train[0].numpy()\n",
    "y_train = X_y_train[1].numpy()\n",
    "X_val = X_y_val[0].numpy()\n",
    "y_val = X_y_val[1].numpy()\n",
    "\n",
    "dataloaders = dict(train=mnist_train_dataloader, val=mnist_val_dataloader)"
   ]
  },
  {
   "cell_type": "code",
   "execution_count": 6,
   "metadata": {},
   "outputs": [
    {
     "name": "stdout",
     "output_type": "stream",
     "text": [
      "Datasets shapes: {'train': torch.Size([60000, 28, 28]), 'val': torch.Size([10000, 28, 28])}\n",
      "N input features: 784 Output classes: 10\n",
      "Train batch: torch.Size([64, 1, 28, 28]) torch.Size([64])\n",
      "Val batch: torch.Size([64, 1, 28, 28]) torch.Size([64])\n"
     ]
    }
   ],
   "source": [
    "# MNIST DATASET BASIC INFO\n",
    "\n",
    "batch_idx, (example_imgs, example_targets) = next(enumerate(mnist_train_dataloader))\n",
    "\n",
    "D_in = np.prod(example_imgs.shape[1:])\n",
    "D_out = len(mnist_train_dataloader.dataset.targets.unique())\n",
    "print(\"Datasets shapes:\", {x: dataloaders[x].dataset.data.shape for x in ['train', 'val']})\n",
    "print(\"N input features:\", D_in, \"Output classes:\", D_out)\n",
    "print(\"Train batch:\", example_imgs.shape, example_targets.shape)\n",
    "batch_idx, (example_imgs, example_targets) = next(enumerate(mnist_val_dataloader))\n",
    "print(\"Val batch:\", example_imgs.shape, example_targets.shape)"
   ]
  },
  {
   "cell_type": "code",
   "execution_count": 7,
   "metadata": {},
   "outputs": [
    {
     "name": "stderr",
     "output_type": "stream",
     "text": [
      "C:\\Users\\35196\\AppData\\Local\\Temp\\ipykernel_21044\\2130928424.py:6: UserWarning: The figure layout has changed to tight\n",
      "  plt.tight_layout()\n"
     ]
    },
    {
     "data": {
      "image/png": "[encoded data removed]",
      "text/plain": [
       "<Figure size 640x480 with 6 Axes>"
      ]
     },
     "metadata": {},
     "output_type": "display_data"
    }
   ],
   "source": [
    "def plot_img_label_prediction(imgs, y_true, y_pred=None, shape=(2, 3)):\n",
    "    y_pred = [None] * len(y_true) if y_pred is None else y_pred\n",
    "    fig = plt.figure()\n",
    "    for i in range(np.prod(shape)):\n",
    "        plt.subplot(*shape, i+1)\n",
    "        plt.tight_layout()\n",
    "        plt.imshow(imgs[i][0], cmap='gray', interpolation='none')\n",
    "        plt.title(\"True: {} Pred: {}\".format(y_true[i], y_pred[i]))\n",
    "        plt.xticks([])\n",
    "        plt.yticks([])\n",
    "\n",
    "plot_img_label_prediction(imgs=example_imgs, y_true=example_targets, y_pred=None, shape=(2, 3))"
   ]
  },
  {
   "cell_type": "markdown",
   "metadata": {},
   "source": [
    "### 1.1 Logistic Regression\n",
    "\n",
    "We can use a very simple Logistic Regression that receives our input images as a vector and predicts the digit. This will be our first baseline to compare with the CNNs."
   ]
  },
  {
   "cell_type": "code",
   "execution_count": 8,
   "metadata": {},
   "outputs": [
    {
     "name": "stdout",
     "output_type": "stream",
     "text": [
      "Test score with penalty: 0.9000\n"
     ]
    }
   ],
   "source": [
    "scaler = StandardScaler()\n",
    "X_train = scaler.fit_transform(np.reshape(X_train, (X_train.shape[0], -1)))\n",
    "X_val = scaler.transform(np.reshape(X_val, (X_val.shape[0], -1)))\n",
    "\n",
    "clf = LogisticRegression(C=50., multi_class='multinomial', solver='sag', tol=0.1)\n",
    "clf.fit(X_train, y_train)\n",
    "score = clf.score(X_val, y_val)\n",
    "\n",
    "print(\"Test score with penalty: %.4f\" % score)"
   ]
  },
  {
   "cell_type": "code",
   "execution_count": 9,
   "metadata": {},
   "outputs": [
    {
     "data": {
      "image/png": "[encoded data removed]",
      "text/plain": [
       "<Figure size 1000x500 with 10 Axes>"
      ]
     },
     "metadata": {},
     "output_type": "display_data"
    }
   ],
   "source": [
    "coef = clf.coef_.copy()\n",
    "plt.figure(figsize=(10, 5))\n",
    "scale = np.abs(coef).max()\n",
    "for i in range(10):\n",
    "    l1_plot = plt.subplot(2, 5, i + 1)\n",
    "    l1_plot.imshow(coef[i].reshape(28, 28), interpolation='nearest',\n",
    "                   cmap=plt.cm.RdBu, vmin=-scale, vmax=scale)\n",
    "    l1_plot.set_xticks(())\n",
    "    l1_plot.set_yticks(())\n",
    "    l1_plot.set_xlabel('Class %i' % i)\n",
    "plt.suptitle('Classification coefficient vectors for...')\n",
    "\n",
    "plt.show()"
   ]
  },
  {
   "cell_type": "markdown",
   "metadata": {},
   "source": [
    "### 1.2 FF network"
   ]
  },
  {
   "cell_type": "code",
   "execution_count": 10,
   "metadata": {},
   "outputs": [],
   "source": [
    "# MLP CLASS\n",
    "\n",
    "class MLP(nn.Module):\n",
    "    def __init__(self, dim_layers):\n",
    "        super(MLP, self).__init__()\n",
    "        self.dim_layers = dim_layers\n",
    "        layer_list = [nn.Linear(dim_layers[l], dim_layers[l+1]) for l in range(len(dim_layers) - 1)]\n",
    "        self.lin_layers = nn.ModuleList(layer_list)\n",
    "\n",
    "    def forward(self, X):\n",
    "        X = X.view(-1, self.dim_layers[0])\n",
    "        # apply relu\n",
    "        for layer in self.lin_layers[:-1]:\n",
    "            X = F.relu(layer(X))\n",
    "        # use softmax for output layer\n",
    "        return F.log_softmax(self.lin_layers[-1](X), dim=1)"
   ]
  },
  {
   "cell_type": "code",
   "execution_count": 11,
   "metadata": {},
   "outputs": [],
   "source": [
    "def train_val_model(model, criterion, optimizer, dataloaders, num_epochs=25,\n",
    "        scheduler=None, log_interval=None):\n",
    "    since = time.time()\n",
    "\n",
    "    best_model_wts = copy.deepcopy(model.state_dict())\n",
    "    best_acc = 0.0\n",
    "\n",
    "    # init dictionaries to save losses and accuracies of training and validation\n",
    "    losses, accuracies = dict(train=[], val=[]), dict(train=[], val=[])\n",
    "\n",
    "    for epoch in range(num_epochs):\n",
    "        if log_interval is not None and epoch % log_interval == 0:\n",
    "            print('Epoch {}/{}'.format(epoch, num_epochs - 1))\n",
    "            print('-' * 10)\n",
    "\n",
    "        # execute a training and validation phase for each epoch\n",
    "        for phase in ['train', 'val']:\n",
    "            if phase == 'train':\n",
    "                model.train()  # set model to train mode\n",
    "            else:\n",
    "                model.eval()   # Set model to eval mode\n",
    "\n",
    "            running_loss = 0.0\n",
    "            running_corrects = 0\n",
    "\n",
    "            # iterate over the data\n",
    "            nsamples = 0\n",
    "            for inputs, labels in dataloaders[phase]:\n",
    "                inputs = inputs.to(device)\n",
    "                labels = labels.to(device)\n",
    "                nsamples += inputs.shape[0]\n",
    "\n",
    "                # set the parameter gradients to zero\n",
    "                optimizer.zero_grad()\n",
    "\n",
    "                with torch.set_grad_enabled(phase == 'train'):\n",
    "                    outputs = model(inputs)\n",
    "                    _, preds = torch.max(outputs, 1)\n",
    "                    loss = criterion(outputs, labels)\n",
    "\n",
    "                    # if in training phase, perform backward prop and optimize\n",
    "                    if phase == 'train':\n",
    "                        loss.backward()\n",
    "                        optimizer.step()\n",
    "\n",
    "                # increment loss and correct counts\n",
    "                running_loss += loss.item() * inputs.size(0)\n",
    "                running_corrects += torch.sum(preds == labels.data)\n",
    "\n",
    "            if scheduler is not None and phase == 'train':\n",
    "                scheduler.step()\n",
    "\n",
    "            epoch_loss = running_loss / nsamples\n",
    "            epoch_acc = running_corrects.double() / nsamples\n",
    "\n",
    "            losses[phase].append(epoch_loss)\n",
    "            accuracies[phase].append(epoch_acc)\n",
    "            if log_interval is not None and epoch % log_interval == 0:\n",
    "                print('{} Loss: {:.4f} Acc: {:.2f}%'.format(\n",
    "                    phase, epoch_loss, 100 * epoch_acc))\n",
    "\n",
    "            # deep copy the best model\n",
    "            if phase == 'val' and epoch_acc > best_acc:\n",
    "                best_acc = epoch_acc\n",
    "                best_model_wts = copy.deepcopy(model.state_dict())\n",
    "        if log_interval is not None and epoch % log_interval == 0:\n",
    "            print()\n",
    "\n",
    "    time_elapsed = time.time() - since\n",
    "    print('Training complete in {:.0f}m {:.0f}s'.format(\n",
    "        time_elapsed // 60, time_elapsed % 60))\n",
    "    print('Best val Acc: {:.2f}%'.format(100 * best_acc))\n",
    "\n",
    "    # load best model weights to return\n",
    "    model.load_state_dict(best_model_wts)\n",
    "\n",
    "    return model, losses, accuracies"
   ]
  },
  {
   "cell_type": "code",
   "execution_count": 12,
   "metadata": {},
   "outputs": [
    {
     "name": "stdout",
     "output_type": "stream",
     "text": [
      "Epoch 0/14\n",
      "----------\n",
      "train Loss: 0.8121 Acc: 76.31%\n",
      "val Loss: 0.2928 Acc: 91.55%\n",
      "\n",
      "Epoch 2/14\n",
      "----------\n",
      "train Loss: 0.1789 Acc: 94.77%\n",
      "val Loss: 0.1546 Acc: 95.32%\n",
      "\n",
      "Epoch 4/14\n",
      "----------\n",
      "train Loss: 0.1117 Acc: 96.67%\n",
      "val Loss: 0.1099 Acc: 96.57%\n",
      "\n",
      "Epoch 6/14\n",
      "----------\n",
      "train Loss: 0.0779 Acc: 97.72%\n",
      "val Loss: 0.0940 Acc: 97.03%\n",
      "\n",
      "Epoch 8/14\n",
      "----------\n",
      "train Loss: 0.0573 Acc: 98.36%\n",
      "val Loss: 0.0820 Acc: 97.35%\n",
      "\n",
      "Epoch 10/14\n",
      "----------\n",
      "train Loss: 0.0423 Acc: 98.77%\n",
      "val Loss: 0.0723 Acc: 97.71%\n",
      "\n",
      "Epoch 12/14\n",
      "----------\n",
      "train Loss: 0.0317 Acc: 99.15%\n",
      "val Loss: 0.0684 Acc: 97.96%\n",
      "\n",
      "Epoch 14/14\n",
      "----------\n",
      "train Loss: 0.0227 Acc: 99.40%\n",
      "val Loss: 0.0681 Acc: 97.86%\n",
      "\n",
      "Training complete in 4m 0s\n",
      "Best val Acc: 97.96%\n"
     ]
    },
    {
     "data": {
      "image/png": "[encoded data removed]",
      "text/plain": [
       "<Figure size 640x480 with 1 Axes>"
      ]
     },
     "metadata": {},
     "output_type": "display_data"
    }
   ],
   "source": [
    "model_mlp = MLP([D_in, 256, 128, 64, D_out]).to(device) # [D_in, 512, 256, 128, 64, D_out]\n",
    "\n",
    "optimizer = optim.SGD(model_mlp.parameters(), lr=0.01, momentum=0.5)\n",
    "criterion = nn.NLLLoss()\n",
    "\n",
    "model_mlp, losses, accuracies = train_val_model(model_mlp, criterion, optimizer, dataloaders,\n",
    "                       num_epochs=15, log_interval=2)\n",
    "\n",
    "_ = plt.plot(losses['train'], '-b', losses['val'], '--r')"
   ]
  },
  {
   "cell_type": "markdown",
   "metadata": {},
   "source": [
    "### 1.3 CNN "
   ]
  },
  {
   "cell_type": "code",
   "execution_count": 13,
   "metadata": {},
   "outputs": [],
   "source": [
    "class CNN(nn.Module):\n",
    "    \"\"\"Basic Pytorch CNN for MNIST-like data.\"\"\"\n",
    "\n",
    "    def __init__(self):\n",
    "        super(CNN, self).__init__()\n",
    "        self.conv1 = nn.Conv2d(1, 10, kernel_size=5)\n",
    "        self.conv2 = nn.Conv2d(10, 20, kernel_size=5)\n",
    "        self.conv2_drop = nn.Dropout2d()\n",
    "        self.fc1 = nn.Linear(320, 50)\n",
    "        self.fc2 = nn.Linear(50, 10)\n",
    "\n",
    "    def forward(self, x, T=1.0):\n",
    "        # Batch size = 64, images 28x28 =>\n",
    "        #     x.shape = [64, 1, 28, 28]\n",
    "        x = F.relu(F.max_pool2d(self.conv1(x), 2))\n",
    "        # Convolution with 5x5 filter without padding and 10 channels =>\n",
    "        #     x.shape = [64, 10, 24, 24] since 24 = 28 - 5 + 1\n",
    "        # Max pooling with stride of 2 =>\n",
    "        #     x.shape = [64, 10, 12, 12]\n",
    "        x = F.relu(F.max_pool2d(self.conv2_drop(self.conv2(x)), 2))\n",
    "        # Convolution with 5x5 filter without padding and 20 channels =>\n",
    "        #     x.shape = [64, 20, 8, 8] since 8 = 12 - 5 + 1\n",
    "        # Max pooling with stride of 2 =>\n",
    "        #     x.shape = [64, 20, 4, 4]\n",
    "        x = x.view(-1, 320)\n",
    "        # Reshape =>\n",
    "        #     x.shape = [64, 320]\n",
    "        x = F.relu(self.fc1(x))\n",
    "        x = F.dropout(x, training=self.training)\n",
    "        x = self.fc2(x)\n",
    "        x = F.log_softmax(x, dim=1)\n",
    "        return x"
   ]
  },
  {
   "cell_type": "code",
   "execution_count": 14,
   "metadata": {},
   "outputs": [
    {
     "name": "stdout",
     "output_type": "stream",
     "text": [
      "Epoch 0/24\n",
      "----------\n",
      "train Loss: 0.5508 Acc: 82.59%\n",
      "val Loss: 0.1025 Acc: 96.77%\n",
      "\n",
      "Epoch 2/24\n",
      "----------\n",
      "train Loss: 0.2135 Acc: 93.67%\n",
      "val Loss: 0.0622 Acc: 98.02%\n",
      "\n",
      "Epoch 4/24\n",
      "----------\n",
      "train Loss: 0.1731 Acc: 94.84%\n",
      "val Loss: 0.0476 Acc: 98.51%\n",
      "\n",
      "Epoch 6/24\n",
      "----------\n",
      "train Loss: 0.1565 Acc: 95.48%\n",
      "val Loss: 0.0423 Acc: 98.54%\n",
      "\n",
      "Epoch 8/24\n",
      "----------\n",
      "train Loss: 0.1412 Acc: 95.89%\n",
      "val Loss: 0.0390 Acc: 98.84%\n",
      "\n",
      "Epoch 10/24\n",
      "----------\n",
      "train Loss: 0.1308 Acc: 96.17%\n",
      "val Loss: 0.0337 Acc: 98.85%\n",
      "\n",
      "Epoch 12/24\n",
      "----------\n",
      "train Loss: 0.1243 Acc: 96.28%\n",
      "val Loss: 0.0342 Acc: 98.91%\n",
      "\n",
      "Epoch 14/24\n",
      "----------\n",
      "train Loss: 0.1190 Acc: 96.46%\n",
      "val Loss: 0.0331 Acc: 98.99%\n",
      "\n",
      "Epoch 16/24\n",
      "----------\n",
      "train Loss: 0.1152 Acc: 96.56%\n",
      "val Loss: 0.0318 Acc: 99.04%\n",
      "\n",
      "Epoch 18/24\n",
      "----------\n",
      "train Loss: 0.1109 Acc: 96.64%\n",
      "val Loss: 0.0300 Acc: 98.99%\n",
      "\n",
      "Epoch 20/24\n",
      "----------\n",
      "train Loss: 0.1072 Acc: 96.73%\n",
      "val Loss: 0.0289 Acc: 99.05%\n",
      "\n",
      "Epoch 22/24\n",
      "----------\n",
      "train Loss: 0.1013 Acc: 97.00%\n",
      "val Loss: 0.0284 Acc: 99.08%\n",
      "\n",
      "Epoch 24/24\n",
      "----------\n",
      "train Loss: 0.1027 Acc: 96.89%\n",
      "val Loss: 0.0310 Acc: 98.97%\n",
      "\n",
      "Training complete in 8m 40s\n",
      "Best val Acc: 99.14%\n"
     ]
    },
    {
     "data": {
      "image/png": "[encoded data removed]",
      "text/plain": [
       "<Figure size 640x480 with 1 Axes>"
      ]
     },
     "metadata": {},
     "output_type": "display_data"
    }
   ],
   "source": [
    "model = CNN().to(device)\n",
    "optimizer = torch.optim.Adam(model.parameters(), lr=0.001)\n",
    "criterion = nn.NLLLoss()\n",
    "\n",
    "model, losses, accuracies = train_val_model(model, criterion, optimizer, dataloaders,\n",
    "                       num_epochs=25, log_interval=2)\n",
    "\n",
    "_ = plt.plot(losses['train'], '-b', losses['val'], '--r')"
   ]
  },
  {
   "cell_type": "code",
   "execution_count": 15,
   "metadata": {},
   "outputs": [
    {
     "name": "stdout",
     "output_type": "stream",
     "text": [
      "Number of parameters in the MLP model: 242762\n",
      "Number of parameters in the CNN model: 21840\n"
     ]
    }
   ],
   "source": [
    "# NUMBER OF PARAMETERS \n",
    "\n",
    "model_parameters_mlp = filter(lambda p: p.requires_grad, model_mlp.parameters())\n",
    "params_mlp = sum([np.prod(p.size()) for p in model_parameters_mlp])\n",
    "print('Number of parameters in the MLP model: {}'.format(params_mlp))\n",
    "\n",
    "model_parameters_cnn = filter(lambda p: p.requires_grad, model.parameters())\n",
    "params_cnn = sum([np.prod(p.size()) for p in model_parameters_cnn])\n",
    "print('Number of parameters in the CNN model: {}'.format(params_cnn))"
   ]
  }
 ],
 "metadata": {
  "kernelspec": {
   "display_name": "IST_DL21_Env",
   "language": "python",
   "name": "python3"
  },
  "language_info": {
   "codemirror_mode": {
    "name": "ipython",
    "version": 3
   },
   "file_extension": ".py",
   "mimetype": "text/x-python",
   "name": "python",
   "nbconvert_exporter": "python",
   "pygments_lexer": "ipython3",
   "version": "3.8.18"
  }
 },
 "nbformat": 4,
 "nbformat_minor": 2
}
